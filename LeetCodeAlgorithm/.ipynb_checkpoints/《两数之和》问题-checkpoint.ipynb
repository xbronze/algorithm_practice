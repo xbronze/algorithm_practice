{
 "cells": [
  {
   "cell_type": "markdown",
   "id": "a298aea1",
   "metadata": {},
   "source": [
    "## 两数之和\n",
    "\n",
    "给定一个整数数组 nums 和一个整数目标值 target，请你在该数组中找出 **和为目标值 target**  的那 **两个** 整数，并返回它们的数组下标。\n",
    "\n",
    "你可以假设每种输入只会对应一个答案。但是，数组中同一个元素在答案里不能重复出现。\n",
    "\n",
    "你可以按任意顺序返回答案。\n",
    "\n",
    "### 示例 1：\n",
    "\n",
    "```\n",
    "输入：nums = [2,7,11,15], target = 9\n",
    "输出：[0,1]\n",
    "解释：因为 nums[0] + nums[1] == 9 ，返回 [0, 1] 。\n",
    "```\n",
    "\n",
    "### 示例 2：\n",
    "\n",
    "```\n",
    "输入：nums = [3,2,4], target = 6\n",
    "输出：[1,2]\n",
    "```\n",
    "\n",
    "### 示例 3：\n",
    "\n",
    "```\n",
    "输入：nums = [3,3], target = 6\n",
    "输出：[0,1]\n",
    "```\n",
    "\n",
    "### 提示：\n",
    "\n",
    "- 2 <= nums.length <= 104\n",
    "- -109 <= nums[i] <= 109\n",
    "- -109 <= target <= 109\n",
    "- 只会存在一个有效答案\n"
   ]
  },
  {
   "cell_type": "code",
   "execution_count": null,
   "id": "de170876",
   "metadata": {},
   "outputs": [],
   "source": [
    "class Solution {\n",
    "    public int[] twoSum(int[] nums, int target) {\n",
    "        Map<Integer, Integer> map = new HashMap<>();\n",
    "        for(int i = 0 ; i < nums.length ; i++) {\n",
    "            if(map.containsKey(target - nums[i])) {\n",
    "                return new int[]{map.get(target-nums[i]), i};\n",
    "            }\n",
    "            map.put(nums[i], i);\n",
    "        }\n",
    "        return new int[0];\n",
    "    }\n",
    "}"
   ]
  }
 ],
 "metadata": {
  "kernelspec": {
   "display_name": "Java",
   "language": "java",
   "name": "java"
  }
 },
 "nbformat": 4,
 "nbformat_minor": 5
}
