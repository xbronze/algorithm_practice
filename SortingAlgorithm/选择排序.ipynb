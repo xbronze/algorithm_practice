{
 "cells": [
  {
   "attachments": {},
   "cell_type": "markdown",
   "id": "82c3f4d5",
   "metadata": {},
   "source": [
    "## 选择排序\n",
    "\n",
    "**选择排序** 是一种简单直观的排序算法，无论什么数据进去都是 O(n²) 的时间复杂度。所以用到它的时候，数据规模越小越好。***唯一的好处可能就是不占用额外的内存空间了吧*** 。\n",
    "\n",
    "### 算法步骤\n",
    "\n",
    "1. 首先在未排序序列中找到最小（大）元素，存放到排序序列的起始位置。\n",
    "2. 再从剩余未排序元素中继续寻找最小（大）元素，然后放到已排序序列的末尾。\n",
    "3. 重复第二步，直到所有元素均排序完毕。\n",
    "\n",
    "\n",
    "### Java代码实现"
   ]
  },
  {
   "cell_type": "code",
   "execution_count": null,
   "id": "1cb040db",
   "metadata": {},
   "outputs": [],
   "source": [
    "int[] value = {4,86,35,1,56,84,66,10,55,15,98,7};\n",
    "for (int i = 0 ; i < value.length - 1 ; i++) {\n",
    "    int tag = i; // 初始化最小下标的指向\n",
    "    for (int j = i + 1 ; j < value.length ; j++) {\n",
    "        if (value[j] < value[tag]) {\n",
    "            // 把最小下标指向最小的数值\n",
    "            tag = j;\n",
    "        }\n",
    "    }\n",
    "    // 当tag != 1，代表有查询到更小的数值\n",
    "    if (tag != i) {\n",
    "        int tmp = value[i];\n",
    "        value[i] = value[tag];\n",
    "        value[tag] = tmp;\n",
    "    }\n",
    "}\n",
    "for (int k = 0 ; k < value.length ; k++) {\n",
    "    System.out.println(value[k]);\n",
    "}"
   ]
  }
 ],
 "metadata": {
  "kernelspec": {
   "display_name": "Java",
   "language": "java",
   "name": "java"
  }
 },
 "nbformat": 4,
 "nbformat_minor": 5
}
