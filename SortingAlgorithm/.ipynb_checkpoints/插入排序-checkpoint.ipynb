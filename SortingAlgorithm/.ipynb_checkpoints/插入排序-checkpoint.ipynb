{
 "cells": [
  {
   "cell_type": "markdown",
   "id": "4135b7b4",
   "metadata": {},
   "source": [
    "## 插入排序\n",
    "\n",
    "**插入排序** 的代码实现虽然没有冒泡排序和选择排序那么简单粗暴，但它的原理应该是最容易理解的了，因为只要打过扑克牌的人都应该能够秒懂。插入排序是一种最简单直观的排序算法，它的工作原理是通过构建有序序列，对于未排序数据，在已排序序列中从后向前扫描，找到相应位置并插入。\n",
    "\n",
    "插入排序和冒泡排序一样，也有一种优化算法，叫做拆半插入。\n",
    "\n",
    "### 算法步骤\n",
    "\n",
    "将第一待排序序列第一个元素看做一个有序序列，把第二个元素到最后一个元素当成是未排序序列。\n",
    "\n",
    "从头到尾依次扫描未排序序列，将扫描到的每个元素插入有序序列的适当位置。（如果待插入的元素与有序序列中的某个元素相等，则将待插入元素插入到相等元素的后面。）\n",
    "\n",
    "### Java代码实现"
   ]
  },
  {
   "cell_type": "code",
   "execution_count": null,
   "id": "d98d045d",
   "metadata": {},
   "outputs": [],
   "source": [
    "int[] value = {4,86,35,1,56,84,66,10,55,15,98,7};\n",
    "for (int i = 1 ; i < value.length ; i++) {\n",
    "  for (int j = i ; j > 0 ; j--) {\n",
    "      if (value[j] < value[j-1]) {\n",
    "          int tmp = value[j-1];\n",
    "          value[j-1] = value[j];\n",
    "          value[j] = tmp;\n",
    "      } else {\n",
    "          // value[j] >= value[j-1]，表示当前j位置的元素已经比j之前的所有元素的值都大\n",
    "          break;\n",
    "      }\n",
    "  }\n",
    "}\n",
    "for (int k = 0 ; k < value.length ; k++) {\n",
    "  System.out.println(value[k]);\n",
    "}"
   ]
  }
 ],
 "metadata": {
  "kernelspec": {
   "display_name": "Java",
   "language": "java",
   "name": "java"
  }
 },
 "nbformat": 4,
 "nbformat_minor": 5
}
