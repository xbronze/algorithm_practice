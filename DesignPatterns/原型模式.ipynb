{
 "cells": [
  {
   "cell_type": "markdown",
   "id": "2676ba98",
   "metadata": {},
   "source": [
    "原型模式（Prototype Pattern）是23种设计模式之一，它的主要作用是用于创建重复的对象，同时又能保证性能。通过克隆一个现有对象来生成新的对象，而不是使用 new 运算符创建。"
   ]
  },
  {
   "cell_type": "markdown",
   "id": "2af04cec",
   "metadata": {},
   "source": [
    "### 何时使用：\n",
    "\n",
    "- 系统应独立于产品的创建、构成和表示。\n",
    "- 需要在运行时指定实例化的类，例如通过动态加载。\n",
    "- 避免创建与产品类层次平行的工厂类层次。\n",
    "- 类的实例只能有几种不同状态组合，克隆原型比手工实例化更方便。\n",
    "\n",
    "### 使用场景\n",
    "\n",
    "- 资源优化\n",
    "- 类初始化需要消耗大量资源（如数据、硬件资源）\n",
    "- 性能和安全要求高的场景\n",
    "- 通过 new 创建对象需要复杂的数据准备或访问权限时\n",
    "- 一个对象需要多个修改者\n",
    "- 对象需提供给其他对象访问并可能被各个调用者修改时\n",
    "- 通常与工厂方法模式一起使用，通过 clone 创建对象，然后由工厂方法提供给调用者\n",
    "\n",
    "### 优点\n",
    "\n",
    "- 性能提高\n",
    "- 避免构造函数的约束\n",
    "\n",
    "### 缺点\n",
    "\n",
    "- 配备克隆方法需要全面考虑类的功能，对已有类可能较难实现，特别是处理不支持串行化的间接对象或含有循环结构的引用时。\n",
    "- 必须实现 Cloneable 接口。\n",
    "\n",
    "### 注意事项\n",
    "\n",
    "与直接实例化类创建新对象不同，原型模式通过拷贝现有对象生成新对象。浅拷贝通过实现 Cloneable 实现，深拷贝通过实现 Serializable 读取二进制流实现。"
   ]
  },
  {
   "cell_type": "markdown",
   "id": "60de30c9",
   "metadata": {},
   "source": [
    "### 实现：\n",
    "\n",
    "我们将创建一个抽象类 Shape 和扩展了 Shape 类的实体类。下一步是定义类 ShapeCache，该类把 shape 对象存储在一个 Hashtable 中，并在请求的时候返回它们的克隆。\n",
    "\n",
    "PrototypePatternDemo 类使用 ShapeCache 类来获取 Shape 对象。"
   ]
  },
  {
   "cell_type": "code",
   "execution_count": null,
   "id": "d0cbedce",
   "metadata": {},
   "outputs": [],
   "source": [
    "package com.xuzh;\n",
    "\n",
    "public class Shape implements Cloneable {\n",
    "\n",
    "    protected String type;\n",
    "\n",
    "    public String getType() {\n",
    "        return type;\n",
    "    }\n",
    "\n",
    "    @Override\n",
    "    protected Object clone() {\n",
    "        Object obj = null;\n",
    "        try {\n",
    "            obj = super.clone();\n",
    "        } catch (CloneNotSupportedException e) {\n",
    "            e.printStackTrace();\n",
    "        }\n",
    "        return obj;\n",
    "    }\n",
    "}"
   ]
  },
  {
   "cell_type": "code",
   "execution_count": null,
   "id": "8b720420",
   "metadata": {},
   "outputs": [],
   "source": [
    "package com.xuzh;\n",
    "\n",
    "public class Rectangle extends Shape{\n",
    "\n",
    "    public Rectangle() {\n",
    "        type = \"Rectangle\";\n",
    "    }\n",
    "}"
   ]
  },
  {
   "cell_type": "code",
   "execution_count": null,
   "id": "6b888bd3",
   "metadata": {},
   "outputs": [],
   "source": [
    "package com.xuzh;\n",
    "\n",
    "\n",
    "public class Square extends Shape{\n",
    "\n",
    "    public Square() {\n",
    "        type = \"square\";\n",
    "    }\n",
    "}"
   ]
  },
  {
   "cell_type": "code",
   "execution_count": null,
   "id": "c9b59441",
   "metadata": {},
   "outputs": [],
   "source": [
    "package com.xuzh;\n",
    "\n",
    "import java.util.Hashtable;\n",
    "\n",
    "public class ShapeCache {\n",
    "\n",
    "    private static Hashtable<String, Shape> shapeMap = new Hashtable<String, Shape>();\n",
    "\n",
    "    public static Shape getShape(String shapeId) {\n",
    "        Shape shape = shapeMap.get(shapeId);\n",
    "        return (Shape) shape.clone();\n",
    "    }\n",
    "\n",
    "    public static void loadCache() {\n",
    "        shapeMap.put(\"1\", new Rectangle());\n",
    "        shapeMap.put(\"2\", new Square());\n",
    "    }\n",
    "}\n"
   ]
  },
  {
   "cell_type": "code",
   "execution_count": null,
   "id": "f2168a40",
   "metadata": {},
   "outputs": [],
   "source": [
    "package com.xuzh;\n",
    "\n",
    "public class PrototypePatternDemo {\n",
    "\n",
    "    public static void main(String[] args) {\n",
    "        ShapeCache.loadCache();\n",
    "        Shape clonedShape = ShapeCache.getShape(\"1\");\n",
    "        System.out.println(\"Shape: \" + clonedShape.getType());\n",
    "        Shape clonedShape2 = ShapeCache.getShape(\"2\");\n",
    "        System.out.println(\"Shape: \" + clonedShape2.getType());\n",
    "    }\n",
    "}\n"
   ]
  }
 ],
 "metadata": {
  "kernelspec": {
   "display_name": "Java",
   "language": "java",
   "name": "java"
  },
  "language_info": {
   "codemirror_mode": "java",
   "file_extension": ".jshell",
   "mimetype": "text/x-java-source",
   "name": "Java",
   "pygments_lexer": "java",
   "version": "17.0.7+8-LTS-224"
  }
 },
 "nbformat": 4,
 "nbformat_minor": 5
}
